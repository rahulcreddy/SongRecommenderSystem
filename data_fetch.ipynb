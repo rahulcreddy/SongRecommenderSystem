{
 "cells": [
  {
   "cell_type": "code",
   "execution_count": 1,
   "id": "0503520a",
   "metadata": {},
   "outputs": [],
   "source": [
    "import spotipy\n",
    "from spotipy.oauth2 import SpotifyClientCredentials\n",
    "import pandas as pd\n",
    "import numpy as np\n",
    "import os"
   ]
  },
  {
   "cell_type": "code",
   "execution_count": 3,
   "id": "cd93a657",
   "metadata": {},
   "outputs": [],
   "source": [
    "# Get the current working directory\n",
    "cwd = os.getcwd()\n",
    "# create a relative path to the data file\n",
    "data_file = os.path.join(cwd, 'client_cred', 'creds.txt')"
   ]
  },
  {
   "cell_type": "code",
   "execution_count": 5,
   "id": "6c568004",
   "metadata": {},
   "outputs": [],
   "source": [
    "# open the text file\n",
    "with open(data_file, 'r') as f:\n",
    "    cid = f.readline().strip()\n",
    "    secret = f.readline().strip()"
   ]
  },
  {
   "cell_type": "code",
   "execution_count": 3,
   "id": "4892a465",
   "metadata": {},
   "outputs": [],
   "source": [
    "#Authentication - without user\n",
    "client_credentials_manager = SpotifyClientCredentials(client_id=cid, client_secret=secret)\n",
    "sp = spotipy.Spotify(client_credentials_manager = client_credentials_manager)"
   ]
  },
  {
   "cell_type": "code",
   "execution_count": 4,
   "id": "d1e24b6b",
   "metadata": {},
   "outputs": [],
   "source": [
    "def get_playlist_tracks(playlist_id):\n",
    "    '''\n",
    "    Params:\n",
    "        playlist_id: ID of the playlist\n",
    "    \n",
    "    Returns:\n",
    "        track_ids: Id's of all the tracks in the playlist. Works for playlists with >100 tracks as well\n",
    "        artist_names: Names of the first artist in the playlist\n",
    "        track_names: Names of the track\n",
    "\n",
    "    Example: Playlist Link is in the format \"https://open.spotify.com/playlist/5S8SJdl1BDc0ugpkEvFsIL\"\n",
    "    Id of this playlist is '5S8SJdl1BDc0ugpkEvFsIL'\n",
    "    '''\n",
    "    tracks = []\n",
    "    temp_track_results = sp.playlist_tracks(playlist_id, offset = 0, limit = 100)\n",
    "    tracks.extend(temp_track_results['items'])\n",
    "\n",
    "    while temp_track_results['next']:\n",
    "        temp_track_results = sp.next(temp_track_results)\n",
    "        tracks.extend(temp_track_results['items'])\n",
    "\n",
    "    track_ids = [track['track']['id'] for track in tracks]\n",
    "    artist_names = [track[\"track\"][\"artists\"][0]['name'] for track in tracks]\n",
    "    track_names = [track[\"track\"][\"name\"] for track in tracks]\n",
    "\n",
    "    return track_ids, artist_names, track_names"
   ]
  },
  {
   "cell_type": "code",
   "execution_count": 5,
   "id": "472d9905",
   "metadata": {},
   "outputs": [],
   "source": [
    "def get_audio_features(track_ids):\n",
    "    '''\n",
    "     Get the audio features from sp.audio_features\n",
    "     Params:\n",
    "         track_ids: List of all the track_ids\n",
    "     Returns:\n",
    "         track_features: Dataframe with all the track features\n",
    "    '''\n",
    "    audio_default = {\"danceability\": 0, \"energy\": 0, \"key\": 0, \"loudness\": 0, \"mode\": 0, \"speechiness\": 0,\n",
    "              \"acousticness\": 0, \"instrumentalness\": 0, \"liveness\": 0, \"valence\": 0, \"tempo\": 0,\n",
    "              \"type\": \"audio_features\", 'id' : '0', 'uri':'', 'track_href':'',\n",
    "             \"analysis_url\":'', 'duration_ms':0, 'time_signature':0}\n",
    "    # Loop through each track and get its audio features\n",
    "    audio_features_list = []\n",
    "    for i in range(0, len(track_ids), 100):\n",
    "        # Get the next 100 track IDs from the list\n",
    "        track_ids_subset = track_ids[i:i+100]\n",
    "\n",
    "        # Get the audio features for the subset of track IDs\n",
    "        audio_features_subset = sp.audio_features(track_ids_subset)\n",
    "\n",
    "        # Loop through each audio feature and add the track ID\n",
    "        for j in range(len(audio_features_subset)):\n",
    "            audio_features = audio_features_subset[j]\n",
    "\n",
    "            if audio_features is None:\n",
    "                audio_features = {key: audio_default[key] for key in audio_default.keys()}\n",
    "            audio_features['id'] = track_ids_subset[j]\n",
    "            audio_features_list.append(audio_features)\n",
    "    # track_ids_subset = tracks_temp_data['track_id'][9735:9745].tolist()\n",
    "    # audio = []\n",
    "    # # Get the audio features for the subset of track IDs\n",
    "    # for j in range(len(track_ids_subset)):\n",
    "    #     audio_features_subset = sp.audio_features(track_ids_subset[j])\n",
    "    #     if audio_features_subset[0] is None:\n",
    "    #         audio_features_subset = [{key: audio_default[key] for key in audio_default.keys()}]\n",
    "    #     audio_features_subset[0]['id'] = track_ids_subset[j]\n",
    "    #     audio.append(audio_features_subset)\n",
    "    track_features = pd.DataFrame(audio_features_list)\n",
    "    return track_features\n",
    "\n",
    "def get_track_audio_features(track_id):\n",
    "    return sp.audio_features(track_id)"
   ]
  },
  {
   "cell_type": "code",
   "execution_count": 14,
   "id": "f559ce8b",
   "metadata": {},
   "outputs": [],
   "source": [
    "data_file = os.path.join(cwd, 'flask/client_cred', 'playlist_ids.txt')\n",
    "# open file in read mode\n",
    "with open(data_file, 'r') as f:\n",
    "    playlist_ids = [line.strip() for line in f.readlines()]"
   ]
  },
  {
   "cell_type": "code",
   "execution_count": 16,
   "id": "a1449ef1",
   "metadata": {},
   "outputs": [
    {
     "ename": "TypeError",
     "evalue": "'NoneType' object is not subscriptable",
     "output_type": "error",
     "traceback": [
      "\u001b[0;31m---------------------------------------------------------------------------\u001b[0m",
      "\u001b[0;31mTypeError\u001b[0m                                 Traceback (most recent call last)",
      "\u001b[0;32m<ipython-input-16-4056f6b06544>\u001b[0m in \u001b[0;36m<module>\u001b[0;34m\u001b[0m\n\u001b[1;32m     10\u001b[0m     \u001b[0mtemp_artist_names\u001b[0m \u001b[0;34m=\u001b[0m \u001b[0;34m[\u001b[0m\u001b[0;34m]\u001b[0m\u001b[0;34m\u001b[0m\u001b[0;34m\u001b[0m\u001b[0m\n\u001b[1;32m     11\u001b[0m     \u001b[0mtemp_track_names\u001b[0m \u001b[0;34m=\u001b[0m \u001b[0;34m[\u001b[0m\u001b[0;34m]\u001b[0m\u001b[0;34m\u001b[0m\u001b[0;34m\u001b[0m\u001b[0m\n\u001b[0;32m---> 12\u001b[0;31m     \u001b[0mtemp_track_ids\u001b[0m\u001b[0;34m,\u001b[0m \u001b[0mtemp_artist_names\u001b[0m\u001b[0;34m,\u001b[0m \u001b[0mtemp_track_names\u001b[0m \u001b[0;34m=\u001b[0m \u001b[0mget_playlist_tracks\u001b[0m\u001b[0;34m(\u001b[0m\u001b[0mplaylist_id\u001b[0m\u001b[0;34m)\u001b[0m\u001b[0;34m\u001b[0m\u001b[0;34m\u001b[0m\u001b[0m\n\u001b[0m\u001b[1;32m     13\u001b[0m     \u001b[0mtrack_ids\u001b[0m\u001b[0;34m.\u001b[0m\u001b[0mextend\u001b[0m\u001b[0;34m(\u001b[0m\u001b[0mtemp_track_ids\u001b[0m\u001b[0;34m)\u001b[0m\u001b[0;34m\u001b[0m\u001b[0;34m\u001b[0m\u001b[0m\n\u001b[1;32m     14\u001b[0m     \u001b[0martist_names\u001b[0m\u001b[0;34m.\u001b[0m\u001b[0mextend\u001b[0m\u001b[0;34m(\u001b[0m\u001b[0mtemp_artist_names\u001b[0m\u001b[0;34m)\u001b[0m\u001b[0;34m\u001b[0m\u001b[0;34m\u001b[0m\u001b[0m\n",
      "\u001b[0;32m<ipython-input-4-2ddb3415a908>\u001b[0m in \u001b[0;36mget_playlist_tracks\u001b[0;34m(playlist_id)\u001b[0m\n\u001b[1;32m     20\u001b[0m         \u001b[0mtracks\u001b[0m\u001b[0;34m.\u001b[0m\u001b[0mextend\u001b[0m\u001b[0;34m(\u001b[0m\u001b[0mtemp_track_results\u001b[0m\u001b[0;34m[\u001b[0m\u001b[0;34m'items'\u001b[0m\u001b[0;34m]\u001b[0m\u001b[0;34m)\u001b[0m\u001b[0;34m\u001b[0m\u001b[0;34m\u001b[0m\u001b[0m\n\u001b[1;32m     21\u001b[0m \u001b[0;34m\u001b[0m\u001b[0m\n\u001b[0;32m---> 22\u001b[0;31m     \u001b[0mtrack_ids\u001b[0m \u001b[0;34m=\u001b[0m \u001b[0;34m[\u001b[0m\u001b[0mtrack\u001b[0m\u001b[0;34m[\u001b[0m\u001b[0;34m'track'\u001b[0m\u001b[0;34m]\u001b[0m\u001b[0;34m[\u001b[0m\u001b[0;34m'id'\u001b[0m\u001b[0;34m]\u001b[0m \u001b[0;32mfor\u001b[0m \u001b[0mtrack\u001b[0m \u001b[0;32min\u001b[0m \u001b[0mtracks\u001b[0m\u001b[0;34m]\u001b[0m\u001b[0;34m\u001b[0m\u001b[0;34m\u001b[0m\u001b[0m\n\u001b[0m\u001b[1;32m     23\u001b[0m     \u001b[0martist_names\u001b[0m \u001b[0;34m=\u001b[0m \u001b[0;34m[\u001b[0m\u001b[0mtrack\u001b[0m\u001b[0;34m[\u001b[0m\u001b[0;34m\"track\"\u001b[0m\u001b[0;34m]\u001b[0m\u001b[0;34m[\u001b[0m\u001b[0;34m\"artists\"\u001b[0m\u001b[0;34m]\u001b[0m\u001b[0;34m[\u001b[0m\u001b[0;36m0\u001b[0m\u001b[0;34m]\u001b[0m\u001b[0;34m[\u001b[0m\u001b[0;34m'name'\u001b[0m\u001b[0;34m]\u001b[0m \u001b[0;32mfor\u001b[0m \u001b[0mtrack\u001b[0m \u001b[0;32min\u001b[0m \u001b[0mtracks\u001b[0m\u001b[0;34m]\u001b[0m\u001b[0;34m\u001b[0m\u001b[0;34m\u001b[0m\u001b[0m\n\u001b[1;32m     24\u001b[0m     \u001b[0mtrack_names\u001b[0m \u001b[0;34m=\u001b[0m \u001b[0;34m[\u001b[0m\u001b[0mtrack\u001b[0m\u001b[0;34m[\u001b[0m\u001b[0;34m\"track\"\u001b[0m\u001b[0;34m]\u001b[0m\u001b[0;34m[\u001b[0m\u001b[0;34m\"name\"\u001b[0m\u001b[0;34m]\u001b[0m \u001b[0;32mfor\u001b[0m \u001b[0mtrack\u001b[0m \u001b[0;32min\u001b[0m \u001b[0mtracks\u001b[0m\u001b[0;34m]\u001b[0m\u001b[0;34m\u001b[0m\u001b[0;34m\u001b[0m\u001b[0m\n",
      "\u001b[0;32m<ipython-input-4-2ddb3415a908>\u001b[0m in \u001b[0;36m<listcomp>\u001b[0;34m(.0)\u001b[0m\n\u001b[1;32m     20\u001b[0m         \u001b[0mtracks\u001b[0m\u001b[0;34m.\u001b[0m\u001b[0mextend\u001b[0m\u001b[0;34m(\u001b[0m\u001b[0mtemp_track_results\u001b[0m\u001b[0;34m[\u001b[0m\u001b[0;34m'items'\u001b[0m\u001b[0;34m]\u001b[0m\u001b[0;34m)\u001b[0m\u001b[0;34m\u001b[0m\u001b[0;34m\u001b[0m\u001b[0m\n\u001b[1;32m     21\u001b[0m \u001b[0;34m\u001b[0m\u001b[0m\n\u001b[0;32m---> 22\u001b[0;31m     \u001b[0mtrack_ids\u001b[0m \u001b[0;34m=\u001b[0m \u001b[0;34m[\u001b[0m\u001b[0mtrack\u001b[0m\u001b[0;34m[\u001b[0m\u001b[0;34m'track'\u001b[0m\u001b[0;34m]\u001b[0m\u001b[0;34m[\u001b[0m\u001b[0;34m'id'\u001b[0m\u001b[0;34m]\u001b[0m \u001b[0;32mfor\u001b[0m \u001b[0mtrack\u001b[0m \u001b[0;32min\u001b[0m \u001b[0mtracks\u001b[0m\u001b[0;34m]\u001b[0m\u001b[0;34m\u001b[0m\u001b[0;34m\u001b[0m\u001b[0m\n\u001b[0m\u001b[1;32m     23\u001b[0m     \u001b[0martist_names\u001b[0m \u001b[0;34m=\u001b[0m \u001b[0;34m[\u001b[0m\u001b[0mtrack\u001b[0m\u001b[0;34m[\u001b[0m\u001b[0;34m\"track\"\u001b[0m\u001b[0;34m]\u001b[0m\u001b[0;34m[\u001b[0m\u001b[0;34m\"artists\"\u001b[0m\u001b[0;34m]\u001b[0m\u001b[0;34m[\u001b[0m\u001b[0;36m0\u001b[0m\u001b[0;34m]\u001b[0m\u001b[0;34m[\u001b[0m\u001b[0;34m'name'\u001b[0m\u001b[0;34m]\u001b[0m \u001b[0;32mfor\u001b[0m \u001b[0mtrack\u001b[0m \u001b[0;32min\u001b[0m \u001b[0mtracks\u001b[0m\u001b[0;34m]\u001b[0m\u001b[0;34m\u001b[0m\u001b[0;34m\u001b[0m\u001b[0m\n\u001b[1;32m     24\u001b[0m     \u001b[0mtrack_names\u001b[0m \u001b[0;34m=\u001b[0m \u001b[0;34m[\u001b[0m\u001b[0mtrack\u001b[0m\u001b[0;34m[\u001b[0m\u001b[0;34m\"track\"\u001b[0m\u001b[0;34m]\u001b[0m\u001b[0;34m[\u001b[0m\u001b[0;34m\"name\"\u001b[0m\u001b[0;34m]\u001b[0m \u001b[0;32mfor\u001b[0m \u001b[0mtrack\u001b[0m \u001b[0;32min\u001b[0m \u001b[0mtracks\u001b[0m\u001b[0;34m]\u001b[0m\u001b[0;34m\u001b[0m\u001b[0;34m\u001b[0m\u001b[0m\n",
      "\u001b[0;31mTypeError\u001b[0m: 'NoneType' object is not subscriptable"
     ]
    }
   ],
   "source": [
    "#import json\n",
    "#with open('tracks_info', 'w') as fout:\n",
    "#    json.dump(tracks_info, fout)\n",
    "\n",
    "track_ids = []\n",
    "artist_names = []\n",
    "track_names = []\n",
    "for playlist_id in playlist_ids:\n",
    "    temp_track_ids = []\n",
    "    temp_artist_names = []\n",
    "    temp_track_names = []\n",
    "    temp_track_ids, temp_artist_names, temp_track_names = get_playlist_tracks(playlist_id)\n",
    "    track_ids.extend(temp_track_ids)\n",
    "    artist_names.extend(temp_artist_names)\n",
    "    track_names.extend(temp_track_names)"
   ]
  },
  {
   "cell_type": "code",
   "execution_count": 25,
   "id": "2548a858",
   "metadata": {},
   "outputs": [],
   "source": [
    "tracks_temp_data = pd.DataFrame(list(zip(track_ids, artist_names, track_names)), \n",
    "                                columns = ['track_id', 'artist_name', 'track_title'])\n",
    "tracks_temp_data = tracks_temp_data.dropna()\n",
    "tracks_temp_data.reset_index(inplace = True, drop = True)\n",
    "tracks_temp_data.drop_duplicates(inplace = True, ignore_index = True)\n",
    "#tracks_data.to_csv(\"tracks_data.csv\", index = False)"
   ]
  },
  {
   "cell_type": "code",
   "execution_count": 27,
   "id": "69b2fbc0",
   "metadata": {},
   "outputs": [],
   "source": [
    "audio_features = get_audio_features(tracks_temp_data['track_id'].tolist())"
   ]
  },
  {
   "cell_type": "code",
   "execution_count": 41,
   "id": "a77e0546",
   "metadata": {},
   "outputs": [],
   "source": [
    "tracks_data = pd.merge(tracks_temp_data, audio_features, left_on = 'track_id', right_on = 'id')\n",
    "tracks_data = tracks_data[['track_id', 'artist_name', 'track_title', 'danceability', 'energy', 'key', \n",
    "                           'loudness', 'mode', 'speechiness', 'acousticness',\n",
    "                           'instrumentalness', 'liveness', 'valence', 'tempo', 'duration_ms']]\n",
    "\n",
    "tracks_data = tracks_data[tracks_data['duration_ms'] > 0]\n",
    "tracks_data = tracks_data[tracks_data['duration_ms'] < 360000]"
   ]
  },
  {
   "cell_type": "code",
   "execution_count": null,
   "id": "f996643d",
   "metadata": {},
   "outputs": [],
   "source": [
    "#tracks_data.to_csv(\"track_features.csv\", index = False)"
   ]
  }
 ],
 "metadata": {
  "kernelspec": {
   "display_name": "Python 3",
   "language": "python",
   "name": "python3"
  },
  "language_info": {
   "codemirror_mode": {
    "name": "ipython",
    "version": 3
   },
   "file_extension": ".py",
   "mimetype": "text/x-python",
   "name": "python",
   "nbconvert_exporter": "python",
   "pygments_lexer": "ipython3",
   "version": "3.8.8"
  }
 },
 "nbformat": 4,
 "nbformat_minor": 5
}
